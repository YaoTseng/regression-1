{
  "nbformat": 4,
  "nbformat_minor": 0,
  "metadata": {
    "colab": {
      "name": "final_reg2_PCA_CV (1).ipynb",
      "provenance": [],
      "collapsed_sections": []
    },
    "kernelspec": {
      "display_name": "Python 3",
      "language": "python",
      "name": "python3"
    },
    "language_info": {
      "codemirror_mode": {
        "name": "ipython",
        "version": 3
      },
      "file_extension": ".py",
      "mimetype": "text/x-python",
      "name": "python",
      "nbconvert_exporter": "python",
      "pygments_lexer": "ipython3",
      "version": "3.6.10"
    }
  },
  "cells": [
    {
      "cell_type": "markdown",
      "metadata": {
        "id": "seeoNCm9rezI"
      },
      "source": [
        "## Import Model"
      ]
    },
    {
      "cell_type": "code",
      "metadata": {
        "id": "QOmgBPRRKJ4o"
      },
      "source": [
        "import pandas as pd\n",
        "import numpy as np\n",
        "import matplotlib.pyplot as plt\n",
        "import torch\n",
        "from torch.autograd import Variable\n",
        "##### 只有在colab上需要這幾行\n",
        "from google.colab import drive\n",
        "drive.mount(\"/content/gdrive\", force_remount=True)\n",
        "!ln -s \"/content/gdrive/My Drive/space_cola\" /WORK1\n",
        "#####"
      ],
      "execution_count": null,
      "outputs": []
    },
    {
      "cell_type": "markdown",
      "metadata": {
        "id": "0_OBY844KJ4t"
      },
      "source": [
        "## Pandas Train Data"
      ]
    },
    {
      "cell_type": "code",
      "metadata": {
        "id": "ivR_0hvVKJ4t"
      },
      "source": [
        "dataframe_train = pd.read_csv('/content/gdrive/My Drive/space_colab/datasets/train_data-2018-09-29-2019-09-29.csv')\n",
        "dataframe_train = dataframe_train.fillna(method='ffill')\n",
        "del dataframe_train['Date']\n",
        "#del dataframe_train['VFINX']\n",
        "dataframe_train.shape"
      ],
      "execution_count": null,
      "outputs": []
    },
    {
      "cell_type": "markdown",
      "metadata": {
        "id": "TyYKcZIBKJ4y"
      },
      "source": [
        "## Pandas Test Data"
      ]
    },
    {
      "cell_type": "code",
      "metadata": {
        "id": "Ef0u7GnAKJ4z"
      },
      "source": [
        "dataframe_pred = pd.read_csv('/content/gdrive/My Drive/space_colab/datasets/predict_data-2019-09-30-2020-09-30.csv')\n",
        "dataframe_pred = dataframe_pred.fillna(method='ffill')\n",
        "del dataframe_pred['Date']\n",
        "tmp = np.array(dataframe_pred['VFINX'])\n",
        "#del dataframe_pred['VFINX']\n",
        "dataframe_pred.head()"
      ],
      "execution_count": null,
      "outputs": []
    },
    {
      "cell_type": "markdown",
      "metadata": {
        "id": "SZfsxTocrezz"
      },
      "source": [
        "## Independent and identically distributed (I.I.D.) Testing"
      ]
    },
    {
      "cell_type": "code",
      "metadata": {
        "id": "ug0M2tZkrez1"
      },
      "source": [
        "import statsmodels.api as sm\n",
        "import matplotlib.pyplot as plt\n",
        "sm.graphics.tsa.plot_acf(tmp, lags=40)\n",
        "plt.show()"
      ],
      "execution_count": null,
      "outputs": []
    },
    {
      "cell_type": "markdown",
      "metadata": {
        "id": "ibi8O9IArez8"
      },
      "source": [
        "## 切割資料"
      ]
    },
    {
      "cell_type": "code",
      "metadata": {
        "id": "m5xwOnygrez-"
      },
      "source": [
        "train_A_d = dataframe_train[:125]\n",
        "train_B_d = dataframe_train[:-124]\n",
        "test_A_d = dataframe_pred[:200]\n",
        "test_B_d = dataframe_pred[:-200]\n",
        "test_B_d"
      ],
      "execution_count": null,
      "outputs": []
    },
    {
      "cell_type": "markdown",
      "metadata": {
        "id": "YhmQrySere0D"
      },
      "source": [
        "## PCA降維"
      ]
    },
    {
      "cell_type": "code",
      "metadata": {
        "id": "gceI1qEmKJ42"
      },
      "source": [
        "import numpy as np  \n",
        "from sklearn.decomposition import PCA\n",
        "\n",
        "pca = PCA(n_components=11)  \n",
        "\n",
        "X = np.array(train_A_d) \n",
        "Y = np.array(train_B_d) \n",
        "Z = np.array(test_A_d)\n",
        "W = np.array(test_B_d)\n",
        "\n",
        "newData_0 = pca.fit_transform(X)\n",
        "print(pca.explained_variance_ratio_) ## [1]\n",
        "newData_0.shape"
      ],
      "execution_count": null,
      "outputs": []
    },
    {
      "cell_type": "code",
      "metadata": {
        "id": "JwWICIdKre0L"
      },
      "source": [
        "newData_1 = pca.fit_transform(Y)\n",
        "print(pca.explained_variance_ratio_)##[0] \n",
        "newData_1.shape"
      ],
      "execution_count": null,
      "outputs": []
    },
    {
      "cell_type": "code",
      "metadata": {
        "id": "ky1E6jSXre0R"
      },
      "source": [
        "newData_2 = pca.fit_transform(Z)\n",
        "print(pca.explained_variance_ratio_) ##[0]\n",
        "newData_2"
      ],
      "execution_count": null,
      "outputs": []
    },
    {
      "cell_type": "code",
      "metadata": {
        "id": "Em480hjbre0W"
      },
      "source": [
        "newData_3 = pca.fit_transform(W)\n",
        "print(pca.explained_variance_ratio_) ##[0]\n",
        "newData_3.shape#"
      ],
      "execution_count": null,
      "outputs": []
    },
    {
      "cell_type": "code",
      "metadata": {
        "id": "jMHu8jZore0a"
      },
      "source": [
        "print(pca)\n",
        "newData_0.shape\n",
        "## "
      ],
      "execution_count": null,
      "outputs": []
    },
    {
      "cell_type": "markdown",
      "metadata": {
        "id": "Tp-iEb_wre0f"
      },
      "source": [
        "## 獲得各主成分的方差"
      ]
    },
    {
      "cell_type": "code",
      "metadata": {
        "id": "9UwGtusure0g"
      },
      "source": [
        "print(pca.explained_variance_ratio_) \n",
        "newData_0.shape"
      ],
      "execution_count": null,
      "outputs": []
    },
    {
      "cell_type": "markdown",
      "metadata": {
        "id": "eOaqPqy5MhNx"
      },
      "source": [
        "PCA"
      ]
    },
    {
      "cell_type": "markdown",
      "metadata": {
        "id": "Z9F0wS0zKJ45"
      },
      "source": [
        "## Normalize test"
      ]
    },
    {
      "cell_type": "code",
      "metadata": {
        "id": "bNzbFmDnKJ45",
        "scrolled": true
      },
      "source": [
        "from scipy import stats\n",
        "print(stats.shapiro(newData_0[:,0]))"
      ],
      "execution_count": null,
      "outputs": []
    },
    {
      "cell_type": "markdown",
      "metadata": {
        "id": "LquQAxpdre0t"
      },
      "source": [
        "## Independent and identically distributed (I.I.D.) Testing"
      ]
    },
    {
      "cell_type": "code",
      "metadata": {
        "id": "pUW4McaCre0u"
      },
      "source": [
        "import statsmodels.api as sm\n",
        "import matplotlib.pyplot as plt\n",
        "sm.graphics.tsa.plot_acf(newData_3[:,0], lags=40)\n",
        "plt.show()"
      ],
      "execution_count": null,
      "outputs": []
    },
    {
      "cell_type": "markdown",
      "metadata": {
        "id": "PVB5uxhmKJ4_"
      },
      "source": [
        "## Min Max Scaler(資料切割)"
      ]
    },
    {
      "cell_type": "code",
      "metadata": {
        "id": "fc9_dpsbKJ4_"
      },
      "source": [
        "from sklearn.preprocessing import MinMaxScaler\n",
        "\n",
        "## train data\n",
        "scaler = MinMaxScaler()\n",
        "scaler = scaler.fit(newData_0)\n",
        "scaled_train_dataA = scaler.fit_transform(newData_0)\n",
        "scaled_train_dataA = Variable(torch.tensor(scaled_train_dataA).type(torch.FloatTensor))\n",
        "\n",
        "scalers = MinMaxScaler()\n",
        "scalers = scalers.fit(newData_1)\n",
        "scaled_train_dataB = scaler.fit_transform(newData_1)\n",
        "scaled_train_dataB = Variable(torch.tensor(scaled_train_dataB).type(torch.FloatTensor))\n",
        "\n",
        "## Test Data\n",
        "\n",
        "scalersTestA = MinMaxScaler()\n",
        "scalersTestA = scalersTestA.fit(newData_2)\n",
        "scaled_test_dataA = scalersTestA.fit_transform(newData_2)\n",
        "scaled_test_dataA = Variable(torch.tensor(scaled_test_dataA).type(torch.FloatTensor))\n",
        "\n",
        "## \n",
        "scalersTestB = MinMaxScaler()\n",
        "scalersTestB = scalersTestB.fit(newData_3)\n",
        "scaled_test_dataB = scalersTestB.fit_transform(newData_3)\n",
        "scaled_test_dataB = Variable(torch.tensor(scaled_test_dataB).type(torch.FloatTensor))\n",
        "\n",
        "scaled_train_dataA[:,1].shape"
      ],
      "execution_count": null,
      "outputs": []
    },
    {
      "cell_type": "markdown",
      "metadata": {
        "id": "RJA-ZiyDZKmz"
      },
      "source": [
        "## Linear Model"
      ]
    },
    {
      "cell_type": "code",
      "metadata": {
        "id": "zjvNOrhfKJ5D"
      },
      "source": [
        "import torch.nn as nn\n",
        "losses = []\n",
        "_losses = []\n",
        "\n",
        "model = nn.Sequential(torch.nn.Linear(11,7),\n",
        "            torch.nn.Linear(7,3),\n",
        "            torch.nn.Linear(3,1))\n",
        "optimizer = torch.optim.SGD(model.parameters(), lr=0.091)\n",
        "loss_function = torch.nn.MSELoss()\n",
        "\n",
        "train = scaled_train_dataA\n",
        "train_b = scaled_train_dataB[:,0]\n",
        "\n",
        "## train mode\n",
        "model = model.train()\n",
        "\n",
        "for epoch in range(0,100):\n",
        "    prediction = model(train)\n",
        "    loss = loss_function(prediction,train_b)\n",
        "    _loss = loss_function(prediction,train[:,0])\n",
        "    losses.append(loss)\n",
        "    _losses.append(_loss)\n",
        "    optimizer.zero_grad()\n",
        "    #loss.backward()\n",
        "    _loss.backward()\n",
        "    \n",
        "    optimizer.step()\n",
        "    if epoch % 10 == 0:\n",
        "        print(loss)\n"
      ],
      "execution_count": null,
      "outputs": []
    },
    {
      "cell_type": "markdown",
      "metadata": {
        "id": "mOfnqxsIZHaV"
      },
      "source": [
        "## Testing and Combine"
      ]
    },
    {
      "cell_type": "code",
      "metadata": {
        "id": "mnAWyvZdQi3s"
      },
      "source": [
        "test = scaled_test_dataA.reshape(200,11)\n",
        "test_b = scaled_test_dataB[:,0].reshape(54,1)\n",
        "## eval mode\n",
        "model = model.eval()\n",
        "\n",
        "\n",
        "### 將預測資料和原始測試及資料合併前，將原始測試及選擇那行刪除(不然合併會變成超過原本維度)\n",
        "A = np.array(scaled_test_dataA)\n",
        "A = np.delete(A,0,1)\n",
        "pred = model(test)## 預測的資料\n",
        "B = np.array(pred.data)\n",
        "#A[:,0] = np.array(pred.data).reshape(200,)\n",
        "x_plot, = plt.plot(B)\n",
        "y_plot, = plt.plot(test[:,0])\n",
        "plt.show()\n",
        "final = np.column_stack((A,B))\n",
        "## 合併完成後，利用PCA和min-max將整組資料反轉回去\n",
        "final = scalersTestA.inverse_transform(final)\n",
        "final = pca.inverse_transform(final)\n",
        "\n",
        "final.shape\n"
      ],
      "execution_count": null,
      "outputs": []
    },
    {
      "cell_type": "markdown",
      "metadata": {
        "id": "AVSYlHBsKJ5H"
      },
      "source": [
        "## Show Loss"
      ]
    },
    {
      "cell_type": "code",
      "metadata": {
        "id": "-Ipz4uq9KJ5H"
      },
      "source": [
        "x_plot, = plt.plot(losses)\n",
        "y_plot, = plt.plot(_losses)\n",
        "plt.legend([x_plot,y_plot],['val_loss','loss'])\n",
        "plt.xlabel('Epochs')\n",
        "plt.ylabel('loss')\n",
        "plt.show()"
      ],
      "execution_count": null,
      "outputs": []
    },
    {
      "cell_type": "markdown",
      "metadata": {
        "id": "tjoFgC4rKJ5K"
      },
      "source": [
        "## Draw Data(Scaler)"
      ]
    },
    {
      "cell_type": "code",
      "metadata": {
        "id": "OEpZ0Bk6KJ5K"
      },
      "source": [
        "plt.figure(figsize=(12,12))\n",
        "plt.title(\"pred Data\")\n",
        "x_plot, = plt.plot(final[:,18],final[:,20],'o')## 合併後資料第21column是vfinx\n",
        "y_plot, = plt.plot(final[:,18],tmp[:200],'o')#### testBd為當初切測試資料，留下沒用到的\n",
        "plt.legend([x_plot,y_plot],['pred','data'])\n",
        "plt.xlabel('column 20 data')\n",
        "plt.ylabel('VFINX  data')\n",
        "plt.show()"
      ],
      "execution_count": null,
      "outputs": []
    },
    {
      "cell_type": "code",
      "metadata": {
        "id": "SpRyN1Xvre1S"
      },
      "source": [
        "plt.figure(figsize=(12,12))\n",
        "x_plot, = plt.plot(final[:,20])\n",
        "y_plot, = plt.plot(tmp[:200])\n",
        "plt.legend([x_plot,y_plot],['pred','data'])\n",
        "plt.xlabel('data seq')\n",
        "plt.ylabel('[0]')\n",
        "plt.show()"
      ],
      "execution_count": null,
      "outputs": []
    },
    {
      "cell_type": "markdown",
      "metadata": {
        "id": "THh1wo7lMe7H"
      },
      "source": [
        ""
      ]
    },
    {
      "cell_type": "code",
      "metadata": {
        "id": "04B0f14bKJ5N"
      },
      "source": [
        "#data1 = np.array(test_b)\n",
        "#data2 = np.array(pred.data)\n",
        "#print(data1.shape)\n",
        "#for i in range(0,124):\n",
        "  #data1[i] = data1[i] * (dataframe_pred['VFINX'].max() - scal.min_[10]) + scal.min_[10]\n",
        "  #data2[i] = data2[i] * (dataframe_pred['VFINX'].max() - scal.min_[10]) + scal.min_[10]\n",
        "\n",
        "#plt.figure(figsize=(15,12))\n",
        "#x_plot, = plt.plot(data1,'magenta')\n",
        "#y_plot, = plt.plot(data2, 'g--')\n",
        "#plt.xlabel('data seq')\n",
        "#plt.ylabel('vfinx')\n",
        "#plt.legend([x_plot,y_plot],['data','pred'])\n",
        "#plt.show()"
      ],
      "execution_count": null,
      "outputs": []
    },
    {
      "cell_type": "code",
      "metadata": {
        "id": "ZtK8BMLdKJ5Q"
      },
      "source": [
        ""
      ],
      "execution_count": null,
      "outputs": []
    }
  ]
}