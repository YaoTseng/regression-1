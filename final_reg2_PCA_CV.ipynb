{
 "cells": [
  {
   "cell_type": "markdown",
   "metadata": {},
   "source": [
    "## Import Model"
   ]
  },
  {
   "cell_type": "code",
   "execution_count": 1,
   "metadata": {
    "colab": {
     "base_uri": "https://localhost:8080/"
    },
    "id": "QOmgBPRRKJ4o",
    "outputId": "f91dcf12-5029-4555-f0cb-4dd549223b3a"
   },
   "outputs": [],
   "source": [
    "import pandas as pd\n",
    "import numpy as np\n",
    "import matplotlib.pyplot as plt\n",
    "import torch\n",
    "from torch.autograd import Variable\n",
    "##### 只有在colab上需要這幾行\n",
    "#####"
   ]
  },
  {
   "cell_type": "markdown",
   "metadata": {
    "id": "0_OBY844KJ4t"
   },
   "source": [
    "## Pandas Train Data"
   ]
  },
  {
   "cell_type": "code",
   "execution_count": 2,
   "metadata": {
    "colab": {
     "base_uri": "https://localhost:8080/"
    },
    "id": "ivR_0hvVKJ4t",
    "outputId": "71e32aab-4cea-43f0-ea07-f00d74193b55"
   },
   "outputs": [
    {
     "data": {
      "text/plain": [
       "(249, 21)"
      ]
     },
     "execution_count": 2,
     "metadata": {},
     "output_type": "execute_result"
    }
   ],
   "source": [
    "\n",
    "dataframe_train = pd.read_csv('../dataset/train_data-2018-09-29-2019-09-29.csv')\n",
    "dataframe_train = dataframe_train.fillna(method='ffill')\n",
    "del dataframe_train['Date']\n",
    "dataframe_train.shape"
   ]
  },
  {
   "cell_type": "markdown",
   "metadata": {
    "id": "TyYKcZIBKJ4y"
   },
   "source": [
    "## Pandas Test Data"
   ]
  },
  {
   "cell_type": "code",
   "execution_count": 3,
   "metadata": {
    "colab": {
     "base_uri": "https://localhost:8080/",
     "height": 232
    },
    "id": "Ef0u7GnAKJ4z",
    "outputId": "3e16c1bd-3fd9-4459-bc35-c9c021cc9ee2"
   },
   "outputs": [
    {
     "data": {
      "text/html": [
       "<div>\n",
       "<style scoped>\n",
       "    .dataframe tbody tr th:only-of-type {\n",
       "        vertical-align: middle;\n",
       "    }\n",
       "\n",
       "    .dataframe tbody tr th {\n",
       "        vertical-align: top;\n",
       "    }\n",
       "\n",
       "    .dataframe thead th {\n",
       "        text-align: right;\n",
       "    }\n",
       "</style>\n",
       "<table border=\"1\" class=\"dataframe\">\n",
       "  <thead>\n",
       "    <tr style=\"text-align: right;\">\n",
       "      <th></th>\n",
       "      <th>VFINX(t-1)</th>\n",
       "      <th>TROW(t-1)</th>\n",
       "      <th>AME(t-1)</th>\n",
       "      <th>HON(t-1)</th>\n",
       "      <th>DFS(t-1)</th>\n",
       "      <th>ALL(t-1)</th>\n",
       "      <th>ACN(t-1)</th>\n",
       "      <th>ANSS(t-1)</th>\n",
       "      <th>IEX(t-1)</th>\n",
       "      <th>DOV(t-1)</th>\n",
       "      <th>...</th>\n",
       "      <th>FMC(t-1)</th>\n",
       "      <th>ADP(t-1)</th>\n",
       "      <th>ADBE(t-1)</th>\n",
       "      <th>PFG(t-1)</th>\n",
       "      <th>VFC(t-1)</th>\n",
       "      <th>J(t-1)</th>\n",
       "      <th>TEL(t-1)</th>\n",
       "      <th>KSU(t-1)</th>\n",
       "      <th>OKE(t-1)</th>\n",
       "      <th>VFINX</th>\n",
       "    </tr>\n",
       "  </thead>\n",
       "  <tbody>\n",
       "    <tr>\n",
       "      <th>0</th>\n",
       "      <td>268.591461</td>\n",
       "      <td>109.611740</td>\n",
       "      <td>90.682549</td>\n",
       "      <td>164.163223</td>\n",
       "      <td>79.028282</td>\n",
       "      <td>105.616859</td>\n",
       "      <td>187.550476</td>\n",
       "      <td>217.089996</td>\n",
       "      <td>162.049942</td>\n",
       "      <td>98.304520</td>\n",
       "      <td>...</td>\n",
       "      <td>84.523018</td>\n",
       "      <td>156.606064</td>\n",
       "      <td>277.540009</td>\n",
       "      <td>54.648434</td>\n",
       "      <td>86.484261</td>\n",
       "      <td>89.724289</td>\n",
       "      <td>90.763832</td>\n",
       "      <td>131.210144</td>\n",
       "      <td>64.879303</td>\n",
       "      <td>269.957397</td>\n",
       "    </tr>\n",
       "    <tr>\n",
       "      <th>1</th>\n",
       "      <td>269.957397</td>\n",
       "      <td>110.794846</td>\n",
       "      <td>91.129158</td>\n",
       "      <td>165.296432</td>\n",
       "      <td>78.621056</td>\n",
       "      <td>106.449417</td>\n",
       "      <td>188.501068</td>\n",
       "      <td>221.360001</td>\n",
       "      <td>161.399963</td>\n",
       "      <td>97.744904</td>\n",
       "      <td>...</td>\n",
       "      <td>86.044113</td>\n",
       "      <td>157.572479</td>\n",
       "      <td>276.250000</td>\n",
       "      <td>54.429340</td>\n",
       "      <td>86.679070</td>\n",
       "      <td>90.525650</td>\n",
       "      <td>91.223969</td>\n",
       "      <td>131.695297</td>\n",
       "      <td>65.224487</td>\n",
       "      <td>266.665375</td>\n",
       "    </tr>\n",
       "    <tr>\n",
       "      <th>2</th>\n",
       "      <td>266.665375</td>\n",
       "      <td>108.040733</td>\n",
       "      <td>88.131889</td>\n",
       "      <td>160.402039</td>\n",
       "      <td>76.536522</td>\n",
       "      <td>104.970406</td>\n",
       "      <td>185.825699</td>\n",
       "      <td>216.729996</td>\n",
       "      <td>157.115768</td>\n",
       "      <td>94.514893</td>\n",
       "      <td>...</td>\n",
       "      <td>82.619225</td>\n",
       "      <td>156.606064</td>\n",
       "      <td>272.709991</td>\n",
       "      <td>52.562325</td>\n",
       "      <td>86.698547</td>\n",
       "      <td>88.566742</td>\n",
       "      <td>89.608604</td>\n",
       "      <td>127.734856</td>\n",
       "      <td>64.357071</td>\n",
       "      <td>261.889435</td>\n",
       "    </tr>\n",
       "    <tr>\n",
       "      <th>3</th>\n",
       "      <td>261.889435</td>\n",
       "      <td>105.752106</td>\n",
       "      <td>85.650688</td>\n",
       "      <td>157.363800</td>\n",
       "      <td>74.471375</td>\n",
       "      <td>103.442421</td>\n",
       "      <td>181.151154</td>\n",
       "      <td>216.039993</td>\n",
       "      <td>154.377853</td>\n",
       "      <td>92.374626</td>\n",
       "      <td>...</td>\n",
       "      <td>81.804710</td>\n",
       "      <td>152.886887</td>\n",
       "      <td>266.660004</td>\n",
       "      <td>51.162056</td>\n",
       "      <td>84.458275</td>\n",
       "      <td>86.954109</td>\n",
       "      <td>87.141510</td>\n",
       "      <td>125.328857</td>\n",
       "      <td>63.401146</td>\n",
       "      <td>264.041565</td>\n",
       "    </tr>\n",
       "    <tr>\n",
       "      <th>4</th>\n",
       "      <td>264.041565</td>\n",
       "      <td>106.217583</td>\n",
       "      <td>86.732491</td>\n",
       "      <td>157.793655</td>\n",
       "      <td>74.180504</td>\n",
       "      <td>103.481598</td>\n",
       "      <td>182.091919</td>\n",
       "      <td>220.240005</td>\n",
       "      <td>155.126343</td>\n",
       "      <td>92.845879</td>\n",
       "      <td>...</td>\n",
       "      <td>81.647697</td>\n",
       "      <td>153.784958</td>\n",
       "      <td>272.399994</td>\n",
       "      <td>50.828663</td>\n",
       "      <td>84.906326</td>\n",
       "      <td>87.241562</td>\n",
       "      <td>87.484161</td>\n",
       "      <td>125.784309</td>\n",
       "      <td>63.719784</td>\n",
       "      <td>267.795471</td>\n",
       "    </tr>\n",
       "  </tbody>\n",
       "</table>\n",
       "<p>5 rows × 21 columns</p>\n",
       "</div>"
      ],
      "text/plain": [
       "   VFINX(t-1)   TROW(t-1)   AME(t-1)    HON(t-1)   DFS(t-1)    ALL(t-1)  \\\n",
       "0  268.591461  109.611740  90.682549  164.163223  79.028282  105.616859   \n",
       "1  269.957397  110.794846  91.129158  165.296432  78.621056  106.449417   \n",
       "2  266.665375  108.040733  88.131889  160.402039  76.536522  104.970406   \n",
       "3  261.889435  105.752106  85.650688  157.363800  74.471375  103.442421   \n",
       "4  264.041565  106.217583  86.732491  157.793655  74.180504  103.481598   \n",
       "\n",
       "     ACN(t-1)   ANSS(t-1)    IEX(t-1)   DOV(t-1)  ...   FMC(t-1)    ADP(t-1)  \\\n",
       "0  187.550476  217.089996  162.049942  98.304520  ...  84.523018  156.606064   \n",
       "1  188.501068  221.360001  161.399963  97.744904  ...  86.044113  157.572479   \n",
       "2  185.825699  216.729996  157.115768  94.514893  ...  82.619225  156.606064   \n",
       "3  181.151154  216.039993  154.377853  92.374626  ...  81.804710  152.886887   \n",
       "4  182.091919  220.240005  155.126343  92.845879  ...  81.647697  153.784958   \n",
       "\n",
       "    ADBE(t-1)   PFG(t-1)   VFC(t-1)     J(t-1)   TEL(t-1)    KSU(t-1)  \\\n",
       "0  277.540009  54.648434  86.484261  89.724289  90.763832  131.210144   \n",
       "1  276.250000  54.429340  86.679070  90.525650  91.223969  131.695297   \n",
       "2  272.709991  52.562325  86.698547  88.566742  89.608604  127.734856   \n",
       "3  266.660004  51.162056  84.458275  86.954109  87.141510  125.328857   \n",
       "4  272.399994  50.828663  84.906326  87.241562  87.484161  125.784309   \n",
       "\n",
       "    OKE(t-1)       VFINX  \n",
       "0  64.879303  269.957397  \n",
       "1  65.224487  266.665375  \n",
       "2  64.357071  261.889435  \n",
       "3  63.401146  264.041565  \n",
       "4  63.719784  267.795471  \n",
       "\n",
       "[5 rows x 21 columns]"
      ]
     },
     "execution_count": 3,
     "metadata": {},
     "output_type": "execute_result"
    }
   ],
   "source": [
    "dataframe_pred = pd.read_csv('../dataset/predict_data-2019-09-30-2020-09-30.csv')\n",
    "dataframe_pred = dataframe_pred.fillna(method='ffill')\n",
    "del dataframe_pred['Date']\n",
    "dataframe_pred.head()"
   ]
  },
  {
   "cell_type": "markdown",
   "metadata": {},
   "source": [
    "## Independent and identically distributed (I.I.D.) Testing"
   ]
  },
  {
   "cell_type": "code",
   "execution_count": 4,
   "metadata": {},
   "outputs": [
    {
     "data": {
      "image/png": "[encoded data removed]",
      "text/plain": [
       "<Figure size 432x288 with 1 Axes>"
      ]
     },
     "metadata": {
      "needs_background": "light"
     },
     "output_type": "display_data"
    }
   ],
   "source": [
    "import statsmodels.api as sm\n",
    "import matplotlib.pyplot as plt\n",
    "sm.graphics.tsa.plot_acf(dataframe_train ['VFINX'].values, lags=40)\n",
    "plt.show()"
   ]
  },
  {
   "cell_type": "code",
   "execution_count": 5,
   "metadata": {},
   "outputs": [],
   "source": [
    "train_A_d = dataframe_train[124:]\n",
    "train_B_d = dataframe_train[:-124]\n",
    "test_A_d = dataframe_pred[129:]\n",
    "test_B_d = dataframe_pred[:-129]"
   ]
  },
  {
   "cell_type": "markdown",
   "metadata": {},
   "source": [
    "## PCA降維"
   ]
  },
  {
   "cell_type": "code",
   "execution_count": 6,
   "metadata": {
    "colab": {
     "base_uri": "https://localhost:8080/"
    },
    "id": "gceI1qEmKJ42",
    "outputId": "6ac0e4fd-65c7-45b2-d2d6-ecc6be652fa7"
   },
   "outputs": [
    {
     "name": "stdout",
     "output_type": "stream",
     "text": [
      "[0.68980595 0.14126839 0.07667288 0.0214447  0.01740346 0.01251523\n",
      " 0.01006574 0.00804313 0.00508164 0.00372891 0.00304659]\n",
      "[0.85677926 0.05665104 0.02669659 0.01759455 0.01099575 0.00658286\n",
      " 0.006144   0.00448037 0.0039498  0.00241068 0.00184669]\n",
      "[9.30977410e-01 3.02777459e-02 1.54146287e-02 7.31481112e-03\n",
      " 4.92224522e-03 2.93889410e-03 2.07252401e-03 1.59460526e-03\n",
      " 9.95939829e-04 8.48012467e-04 6.84352222e-04]\n",
      "[0.75115834 0.2053678  0.01310222 0.00720297 0.00661093 0.00582203\n",
      " 0.00255261 0.00218502 0.00145147 0.00107443 0.00088426]\n",
      "PCA(n_components=11)\n"
     ]
    },
    {
     "data": {
      "text/plain": [
       "(125, 11)"
      ]
     },
     "execution_count": 6,
     "metadata": {},
     "output_type": "execute_result"
    }
   ],
   "source": [
    "import numpy as np  \n",
    "from sklearn.decomposition import PCA\n",
    "\n",
    "pca = PCA(n_components=11)  \n",
    "\n",
    "X = np.array(train_A_d) \n",
    "Y = np.array(train_B_d) \n",
    "Z = np.array(test_A_d)\n",
    "W = np.array(test_B_d)\n",
    "\n",
    "newData_0 = pca.fit_transform(X)\n",
    "print(pca.explained_variance_ratio_) ## [1]\n",
    "newData_1 = pca.fit_transform(Y)\n",
    "print(pca.explained_variance_ratio_)##[0] \n",
    "newData_2 = pca.fit_transform(Z)\n",
    "print(pca.explained_variance_ratio_) ##[0]\n",
    "newData_3 = pca.fit_transform(W)\n",
    "print(pca.explained_variance_ratio_) ##[0]\n",
    "\n",
    "print(pca)\n",
    "\n",
    "newData_0.shape\n",
    "## "
   ]
  },
  {
   "cell_type": "markdown",
   "metadata": {},
   "source": [
    "## 獲得各主成分的方差"
   ]
  },
  {
   "cell_type": "code",
   "execution_count": 7,
   "metadata": {},
   "outputs": [
    {
     "name": "stdout",
     "output_type": "stream",
     "text": [
      "[0.75115834 0.2053678  0.01310222 0.00720297 0.00661093 0.00582203\n",
      " 0.00255261 0.00218502 0.00145147 0.00107443 0.00088426]\n"
     ]
    },
    {
     "data": {
      "text/plain": [
       "(125, 11)"
      ]
     },
     "execution_count": 7,
     "metadata": {},
     "output_type": "execute_result"
    }
   ],
   "source": [
    "print(pca.explained_variance_ratio_) \n",
    "newData_0.shape"
   ]
  },
  {
   "cell_type": "markdown",
   "metadata": {
    "id": "eOaqPqy5MhNx"
   },
   "source": [
    "PCA"
   ]
  },
  {
   "cell_type": "markdown",
   "metadata": {
    "id": "Z9F0wS0zKJ45"
   },
   "source": [
    "## Normalize test"
   ]
  },
  {
   "cell_type": "code",
   "execution_count": 8,
   "metadata": {
    "colab": {
     "base_uri": "https://localhost:8080/"
    },
    "id": "bNzbFmDnKJ45",
    "outputId": "6727630f-02a2-44e8-c847-c38113598950",
    "scrolled": true
   },
   "outputs": [
    {
     "name": "stdout",
     "output_type": "stream",
     "text": [
      "ShapiroResult(statistic=0.9373806118965149, pvalue=1.9763794625760056e-05)\n"
     ]
    }
   ],
   "source": [
    "from scipy import stats\n",
    "print(stats.shapiro(newData_0[:,0]))"
   ]
  },
  {
   "cell_type": "markdown",
   "metadata": {},
   "source": [
    "## Independent and identically distributed (I.I.D.) Testing"
   ]
  },
  {
   "cell_type": "code",
   "execution_count": 9,
   "metadata": {},
   "outputs": [
    {
     "data": {
      "image/png": "[encoded data removed]",
      "text/plain": [
       "<Figure size 432x288 with 1 Axes>"
      ]
     },
     "metadata": {
      "needs_background": "light"
     },
     "output_type": "display_data"
    }
   ],
   "source": [
    "import statsmodels.api as sm\n",
    "import matplotlib.pyplot as plt\n",
    "sm.graphics.tsa.plot_acf(newData_0[:,0], lags=40)\n",
    "plt.show()"
   ]
  },
  {
   "cell_type": "markdown",
   "metadata": {
    "id": "PVB5uxhmKJ4_"
   },
   "source": [
    "## Min Max Scaler(資料切割)"
   ]
  },
  {
   "cell_type": "code",
   "execution_count": 10,
   "metadata": {
    "colab": {
     "base_uri": "https://localhost:8080/"
    },
    "id": "fc9_dpsbKJ4_",
    "outputId": "c6fe5eae-1fac-408e-8f2e-fa9ab4ceb149"
   },
   "outputs": [
    {
     "data": {
      "text/plain": [
       "torch.Size([125])"
      ]
     },
     "execution_count": 10,
     "metadata": {},
     "output_type": "execute_result"
    }
   ],
   "source": [
    "from sklearn.preprocessing import MinMaxScaler\n",
    "\n",
    "## train data\n",
    "scaler = MinMaxScaler()\n",
    "scaler = scaler.fit(newData_0)\n",
    "scaled_train_dataA = scaler.fit_transform(newData_0)\n",
    "scaled_train_dataA = Variable(torch.tensor(scaled_train_dataA).type(torch.FloatTensor))\n",
    "\n",
    "scalers = MinMaxScaler()\n",
    "scalers = scalers.fit(newData_1)\n",
    "scaled_train_dataB = scaler.fit_transform(newData_1)\n",
    "scaled_train_dataB = Variable(torch.tensor(scaled_train_dataB).type(torch.FloatTensor))\n",
    "\n",
    "## Test Data\n",
    "\n",
    "scalersTestA = MinMaxScaler()\n",
    "scalersTestA = scalersTestA.fit(newData_2)\n",
    "scaled_test_dataA = scalersTestA.fit_transform(newData_2)\n",
    "scaled_test_dataA = Variable(torch.tensor(scaled_test_dataA).type(torch.FloatTensor))\n",
    "\n",
    "\n",
    "scalersTestB = MinMaxScaler()\n",
    "scalersTestB = scalersTestB.fit(newData_3)\n",
    "scaled_test_dataB = scalersTestB.fit_transform(newData_3)\n",
    "scaled_test_dataB = Variable(torch.tensor(scaled_test_dataB).type(torch.FloatTensor))\n",
    "\n",
    "scaled_train_dataA[:,1].shape"
   ]
  },
  {
   "cell_type": "markdown",
   "metadata": {
    "id": "RJA-ZiyDZKmz"
   },
   "source": [
    "## Linear Model"
   ]
  },
  {
   "cell_type": "code",
   "execution_count": 11,
   "metadata": {
    "colab": {
     "base_uri": "https://localhost:8080/"
    },
    "id": "zjvNOrhfKJ5D",
    "outputId": "eafadf02-7516-4175-a407-789bac073186"
   },
   "outputs": [
    {
     "name": "stdout",
     "output_type": "stream",
     "text": [
      "tensor(1.3929, grad_fn=<MseLossBackward>)\n"
     ]
    }
   ],
   "source": [
    "import torch.nn as nn\n",
    "losses = []\n",
    "val_losses = []\n",
    "\n",
    "model = nn.Sequential(torch.nn.Linear(1,1))\n",
    "optimizer = torch.optim.SGD(model.parameters(), lr=0.02)\n",
    "loss_function = torch.nn.MSELoss()\n",
    "\n",
    "train = scaled_train_dataA[:,1].reshape(125,1)\n",
    "train_b = scaled_train_dataB[:,0].reshape(125,1)\n",
    "\n",
    "## train mode\n",
    "model = model.train()\n",
    "\n",
    "for epoch in range(0,100):\n",
    "    prediction = model(train)\n",
    "    loss = loss_function(prediction,train_b)\n",
    "    val_loss = loss_function(prediction,train)\n",
    "    losses.append(loss)\n",
    "    val_losses.append(val_loss)\n",
    "    optimizer.zero_grad()\n",
    "    #loss.backward()\n",
    "    val_loss.backward()\n",
    "    \n",
    "    optimizer.step()\n",
    "    if epoch % 100 == 0:\n",
    "        print(loss)\n",
    "## eval mode\n",
    "model = model.eval()"
   ]
  },
  {
   "cell_type": "markdown",
   "metadata": {
    "id": "mOfnqxsIZHaV"
   },
   "source": [
    "## Testing"
   ]
  },
  {
   "cell_type": "code",
   "execution_count": 12,
   "metadata": {
    "id": "mnAWyvZdQi3s"
   },
   "outputs": [],
   "source": [
    "test = scaled_test_dataA[:,0].reshape(125,1)\n",
    "test_b = scaled_test_dataB[:,0].reshape(125,1)\n",
    "\n",
    "pred = model(test)"
   ]
  },
  {
   "cell_type": "markdown",
   "metadata": {
    "id": "AVSYlHBsKJ5H"
   },
   "source": [
    "## Show Loss"
   ]
  },
  {
   "cell_type": "code",
   "execution_count": 13,
   "metadata": {
    "colab": {
     "base_uri": "https://localhost:8080/",
     "height": 279
    },
    "id": "-Ipz4uq9KJ5H",
    "outputId": "05633404-2047-4cbc-fdec-393b4b3b862a"
   },
   "outputs": [
    {
     "data": {
      "image/png": "[encoded data removed]",
      "text/plain": [
       "<Figure size 432x288 with 1 Axes>"
      ]
     },
     "metadata": {
      "needs_background": "light"
     },
     "output_type": "display_data"
    }
   ],
   "source": [
    "x_plot, = plt.plot(losses)\n",
    "y_plot, = plt.plot(val_losses)\n",
    "plt.legend([x_plot,y_plot],['loss','val_loss'])\n",
    "plt.xlabel('Epochs')\n",
    "plt.ylabel('loss')\n",
    "plt.show()"
   ]
  },
  {
   "cell_type": "markdown",
   "metadata": {
    "id": "tjoFgC4rKJ5K"
   },
   "source": [
    "## Draw Data(Scaler)"
   ]
  },
  {
   "cell_type": "code",
   "execution_count": 14,
   "metadata": {
    "colab": {
     "base_uri": "https://localhost:8080/",
     "height": 700
    },
    "id": "OEpZ0Bk6KJ5K",
    "outputId": "346bd415-615e-44c5-a2db-24e54f03ca71"
   },
   "outputs": [
    {
     "data": {
      "image/png": "[encoded data removed]",
      "text/plain": [
       "<Figure size 864x864 with 1 Axes>"
      ]
     },
     "metadata": {
      "needs_background": "light"
     },
     "output_type": "display_data"
    }
   ],
   "source": [
    "plt.figure(figsize=(12,12))\n",
    "x_plot, = plt.plot(test[:,0],test_b,'o')\n",
    "y_plot, = plt.plot(test[:,0],pred.data,'o')\n",
    "plt.legend([x_plot,y_plot],['data','pred'])\n",
    "plt.show()"
   ]
  },
  {
   "cell_type": "code",
   "execution_count": 15,
   "metadata": {},
   "outputs": [
    {
     "data": {
      "image/png": "[encoded data removed]",
      "text/plain": [
       "<Figure size 864x864 with 1 Axes>"
      ]
     },
     "metadata": {
      "needs_background": "light"
     },
     "output_type": "display_data"
    }
   ],
   "source": [
    "plt.figure(figsize=(12,12))\n",
    "x_plot, = plt.plot(test_b)\n",
    "y_plot, = plt.plot(pred.data,'g--')\n",
    "plt.legend([x_plot,y_plot],['data','pred'])\n",
    "plt.xlabel('data seq')\n",
    "plt.ylabel('PCA[0]')\n",
    "plt.show()"
   ]
  },
  {
   "cell_type": "markdown",
   "metadata": {
    "id": "THh1wo7lMe7H"
   },
   "source": []
  },
  {
   "cell_type": "code",
   "execution_count": 16,
   "metadata": {
    "colab": {
     "base_uri": "https://localhost:8080/",
     "height": 731
    },
    "id": "04B0f14bKJ5N",
    "outputId": "6be7ab62-7267-4bf0-d20c-5cee11f9986a"
   },
   "outputs": [],
   "source": [
    "#data1 = np.array(test_b)\n",
    "#data2 = np.array(pred.data)\n",
    "#print(data1.shape)\n",
    "#for i in range(0,124):\n",
    "  #data1[i] = data1[i] * (dataframe_pred['VFINX'].max() - scal.min_[10]) + scal.min_[10]\n",
    "  #data2[i] = data2[i] * (dataframe_pred['VFINX'].max() - scal.min_[10]) + scal.min_[10]\n",
    "\n",
    "#plt.figure(figsize=(15,12))\n",
    "#x_plot, = plt.plot(data1,'magenta')\n",
    "#y_plot, = plt.plot(data2, 'g--')\n",
    "#plt.xlabel('data seq')\n",
    "#plt.ylabel('vfinx')\n",
    "#plt.legend([x_plot,y_plot],['data','pred'])\n",
    "#plt.show()"
   ]
  },
  {
   "cell_type": "code",
   "execution_count": null,
   "metadata": {
    "id": "ZtK8BMLdKJ5Q"
   },
   "outputs": [],
   "source": []
  }
 ],
 "metadata": {
  "colab": {
   "collapsed_sections": [],
   "name": "reg2.ipynb",
   "provenance": []
  },
  "kernelspec": {
   "display_name": "Python 3",
   "language": "python",
   "name": "python3"
  },
  "language_info": {
   "codemirror_mode": {
    "name": "ipython",
    "version": 3
   },
   "file_extension": ".py",
   "mimetype": "text/x-python",
   "name": "python",
   "nbconvert_exporter": "python",
   "pygments_lexer": "ipython3",
   "version": "3.6.10"
  }
 },
 "nbformat": 4,
 "nbformat_minor": 1
}
